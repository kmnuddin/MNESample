{
 "cells": [
  {
   "cell_type": "code",
   "execution_count": 1,
   "metadata": {},
   "outputs": [],
   "source": [
    "import mne\n",
    "import numpy\n",
    "from scipy.io import loadmat"
   ]
  },
  {
   "cell_type": "code",
   "execution_count": 3,
   "metadata": {},
   "outputs": [
    {
     "name": "stdout",
     "output_type": "stream",
     "text": [
      "Platform:      Windows-10-10.0.17134-SP0\n",
      "Python:        3.6.8 |Anaconda, Inc.| (default, Feb 21 2019, 18:30:04) [MSC v.1916 64 bit (AMD64)]\n",
      "Executable:    C:\\Users\\KAM\\AppData\\Local\\conda\\conda\\envs\\mne\\python.exe\n",
      "CPU:           Intel64 Family 6 Model 142 Stepping 10, GenuineIntel: 8 cores\n",
      "Memory:        15.8 GB\n",
      "\n",
      "mne:           0.18.1\n",
      "numpy:         1.16.4 {blas=mkl_rt, lapack=mkl_rt}\n",
      "scipy:         1.2.1\n",
      "matplotlib:    3.1.0 {backend=module://ipykernel.pylab.backend_inline}\n",
      "\n",
      "sklearn:       0.21.2\n",
      "nibabel:       2.4.1\n",
      "mayavi:        4.7.0.dev0 {qt_api=pyqt5, PyQt5=5.9.2}\n",
      "cupy:          Not found\n",
      "pandas:        0.24.2\n",
      "dipy:          0.13.0\n"
     ]
    }
   ],
   "source": [
    "mne.sys_info()"
   ]
  },
  {
   "cell_type": "code",
   "execution_count": 38,
   "metadata": {},
   "outputs": [],
   "source": [
    "data = loadmat('N1.mat')"
   ]
  },
  {
   "cell_type": "code",
   "execution_count": 48,
   "metadata": {},
   "outputs": [],
   "source": [
    "list = []\n",
    "for d in data['chanNames']:\n",
    "    for x in d:\n",
    "        list.append(x[0])"
   ]
  },
  {
   "cell_type": "code",
   "execution_count": 51,
   "metadata": {},
   "outputs": [
    {
     "data": {
      "text/plain": [
       "array([[500]], dtype=uint16)"
      ]
     },
     "execution_count": 51,
     "metadata": {},
     "output_type": "execute_result"
    }
   ],
   "source": []
  }
 ],
 "metadata": {
  "kernelspec": {
   "display_name": "Python 3",
   "language": "python",
   "name": "python3"
  },
  "language_info": {
   "codemirror_mode": {
    "name": "ipython",
    "version": 3
   },
   "file_extension": ".py",
   "mimetype": "text/x-python",
   "name": "python",
   "nbconvert_exporter": "python",
   "pygments_lexer": "ipython3",
   "version": "3.6.8"
  }
 },
 "nbformat": 4,
 "nbformat_minor": 2
}
